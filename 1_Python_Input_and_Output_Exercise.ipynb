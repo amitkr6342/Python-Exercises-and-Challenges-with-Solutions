{
  "cells": [
    {
      "cell_type": "markdown",
      "metadata": {
        "id": "view-in-github",
        "colab_type": "text"
      },
      "source": [
        "<a href=\"https://colab.research.google.com/github/amitkr6342/Python-Exercises-and-Challenges-with-Solutions/blob/main/1_Python_Input_and_Output_Exercise.ipynb\" target=\"_parent\"><img src=\"https://colab.research.google.com/assets/colab-badge.svg\" alt=\"Open In Colab\"/></a>"
      ]
    },
    {
      "cell_type": "markdown",
      "metadata": {
        "id": "yPxP6nn3gCnV"
      },
      "source": [
        "  # Python Input and Output Exercise"
      ]
    },
    {
      "cell_type": "markdown",
      "metadata": {
        "id": "m-wwce18gCne"
      },
      "source": [
        "* In Python, we can use the input() to accept input from a user and print() to display output on the console. Also, we can use Python for file handling (Reading, writing, appending, and deleting files)."
      ]
    },
    {
      "cell_type": "markdown",
      "metadata": {
        "id": "DyQCGv3rgCnf"
      },
      "source": [
        "----------"
      ]
    },
    {
      "cell_type": "markdown",
      "metadata": {
        "id": "feNCccDdgCng"
      },
      "source": [
        "## **Exercise 1: Accept numbers from a user**"
      ]
    },
    {
      "cell_type": "markdown",
      "metadata": {
        "id": "bGlzJCfggCnh"
      },
      "source": [
        "Write a program to accept two numbers from the user and calculate multiplication\n",
        "\n",
        "**Hint:** \n",
        "* Use Python 3’s built-in function input() to accept user input\n",
        "\n",
        "* Convert user input to the integer type using the int() constructor."
      ]
    },
    {
      "cell_type": "markdown",
      "metadata": {
        "id": "JuwLKOQWgCnj"
      },
      "source": [
        "----------"
      ]
    },
    {
      "cell_type": "markdown",
      "metadata": {
        "id": "gIj6x3WVgCnj"
      },
      "source": [
        "## Exercise 2: Display three string “Name”, “Is”, “James” as “Name@@Is@@James”"
      ]
    },
    {
      "cell_type": "markdown",
      "metadata": {
        "id": "Xsy4HHDTgCnl"
      },
      "source": [
        "Use the print() function to format the given words in the mentioned format. Display the @@ separator between each string.\n",
        "\n",
        "**Expected Output:**\n",
        "\n",
        "**For example:** print('Name', 'Is', 'James') will display Name@@Is@@James"
      ]
    },
    {
      "cell_type": "markdown",
      "metadata": {
        "id": "lA_-LWoDgCnm"
      },
      "source": [
        "-----------"
      ]
    },
    {
      "cell_type": "markdown",
      "metadata": {
        "id": "mVkJR_wJgCnn"
      },
      "source": [
        "## Exercise 3: Convert Decimal number to octal using print() output formatting"
      ]
    },
    {
      "cell_type": "markdown",
      "metadata": {
        "id": "2cr30ckGgCno"
      },
      "source": [
        "**Expected Output:**\n",
        "\n",
        "The octal number of decimal number 8 is 10\n",
        "\n",
        "**Hint:**\n",
        "\n",
        "Use the %o formatting code in print() function to format decimal number to octal."
      ]
    },
    {
      "cell_type": "markdown",
      "metadata": {
        "id": "kAn1rx0JgCnp"
      },
      "source": [
        "--------"
      ]
    },
    {
      "cell_type": "markdown",
      "metadata": {
        "id": "l1LgnnKTgCnp"
      },
      "source": [
        "## Exercise 4: Display float number with 2 decimal places using print()"
      ]
    },
    {
      "cell_type": "markdown",
      "metadata": {
        "id": "1ExNhd2ngCnp"
      },
      "source": [
        "**Hint:** Use the %.2f formatting code in print() function to format float number to two decimal places."
      ]
    },
    {
      "cell_type": "markdown",
      "metadata": {
        "id": "Rk5ECoNEgCnq"
      },
      "source": [
        "----------"
      ]
    },
    {
      "cell_type": "markdown",
      "metadata": {
        "id": "ALnlabf7gCnq"
      },
      "source": [
        "## Exercise 5: Accept a list of 5 float numbers as an input from the user"
      ]
    },
    {
      "cell_type": "markdown",
      "metadata": {
        "id": "TL4N-FcmgCnq"
      },
      "source": [
        "**Expected Output:**\n",
        "\n",
        "[78.6, 78.6, 85.3, 1.2, 3.5]\n",
        "\n",
        "**Hint:**\n",
        "\n",
        "* Create a list variable named numbers\n",
        "\n",
        "* Run loop five times\n",
        "\n",
        "* In each iteration of the loop, use the input() function to take input from a user\n",
        "\n",
        "* Convert user input to float number using the float() constructor\n",
        "\n",
        "* Add float number to the numbers list using the append() function"
      ]
    },
    {
      "cell_type": "markdown",
      "metadata": {
        "id": "WUuJFPAKgCnr"
      },
      "source": [
        "--------"
      ]
    },
    {
      "cell_type": "markdown",
      "metadata": {
        "id": "twsSsOvAgCnr"
      },
      "source": [
        "## Exercise 6: Accept any three string from one input() call\n"
      ]
    },
    {
      "cell_type": "markdown",
      "metadata": {
        "id": "GNkQnSz1gCnr"
      },
      "source": [
        "Write a program to take three names as input from a user in the single input() function call.\n",
        "\n",
        "**Expected Output:**\n",
        "````\n",
        "Enter three string Emma Jessa Kelly\n",
        "\n",
        "Name1: Emma\n",
        "\n",
        "Name2: Jessa\n",
        "\n",
        "Name3: Kelly\n",
        "\n",
        "````\n",
        "**Hint:**\n",
        "\n",
        "* Ask the user to enter three names separated by space\n",
        "\n",
        "* Split input string on whitespace using the split() function to get three individual names"
      ]
    },
    {
      "cell_type": "code",
      "execution_count": null,
      "metadata": {
        "id": "RbZ8Du0LgCns"
      },
      "outputs": [],
      "source": []
    },
    {
      "cell_type": "markdown",
      "metadata": {
        "id": "p4JZa0CHgCnt"
      },
      "source": [
        "# Solutions:"
      ]
    },
    {
      "cell_type": "markdown",
      "metadata": {
        "id": "IpfXEkRZgCnt"
      },
      "source": [
        "## Exercise 1:"
      ]
    },
    {
      "cell_type": "code",
      "execution_count": null,
      "metadata": {
        "id": "048JZt_4gCnt",
        "outputId": "b7acf9b6-6a11-4529-850e-dc55f6ac811a"
      },
      "outputs": [
        {
          "name": "stdout",
          "output_type": "stream",
          "text": [
            "Enter first number 1\n",
            "Enter second number 1\n",
            "Multiplication is 1\n"
          ]
        }
      ],
      "source": [
        "num1 = int(input(\"Enter first number \"))\n",
        "num2 = int(input(\"Enter second number \"))\n",
        "\n",
        "res = num1 * num2\n",
        "print(\"Multiplication is\", res)\n"
      ]
    },
    {
      "cell_type": "markdown",
      "metadata": {
        "id": "7bBNZhfvgCnv"
      },
      "source": [
        "-------"
      ]
    },
    {
      "cell_type": "markdown",
      "metadata": {
        "id": "_YxSMKd2gCnv"
      },
      "source": [
        "## Exercise 2:"
      ]
    },
    {
      "cell_type": "code",
      "execution_count": null,
      "metadata": {
        "id": "A3JVurR0gCnv",
        "outputId": "93ad5bae-663f-44f5-db0d-7a18ab496ede"
      },
      "outputs": [
        {
          "name": "stdout",
          "output_type": "stream",
          "text": [
            "Name@@Is@@James\n"
          ]
        }
      ],
      "source": [
        "print('Name', 'Is', 'James', sep='@@')"
      ]
    },
    {
      "cell_type": "markdown",
      "metadata": {
        "id": "04dilTQygCnv"
      },
      "source": [
        "-----------"
      ]
    },
    {
      "cell_type": "markdown",
      "metadata": {
        "id": "hZiquGkzgCnw"
      },
      "source": [
        "## Exercise 3:"
      ]
    },
    {
      "cell_type": "code",
      "execution_count": null,
      "metadata": {
        "id": "gYERlLwBgCnw",
        "outputId": "8acc82bb-941b-4cf1-83d3-014e44acf57b"
      },
      "outputs": [
        {
          "name": "stdout",
          "output_type": "stream",
          "text": [
            "10\n"
          ]
        }
      ],
      "source": [
        "num = 8\n",
        "print('%o' % num)\n"
      ]
    },
    {
      "cell_type": "markdown",
      "metadata": {
        "id": "MiZFxr6egCnw"
      },
      "source": [
        "---------"
      ]
    },
    {
      "cell_type": "markdown",
      "metadata": {
        "id": "9u_E2s_HgCnw"
      },
      "source": [
        "## Exercise 4:"
      ]
    },
    {
      "cell_type": "code",
      "execution_count": null,
      "metadata": {
        "id": "16ws73TqgCnw",
        "outputId": "3e4bf3b2-61a6-43f4-b2dd-103271870890"
      },
      "outputs": [
        {
          "name": "stdout",
          "output_type": "stream",
          "text": [
            "458.54\n"
          ]
        }
      ],
      "source": [
        "num = 458.541315\n",
        "print('%.2f' % num)"
      ]
    },
    {
      "cell_type": "markdown",
      "metadata": {
        "id": "9b0bKyolgCnx"
      },
      "source": [
        "-------"
      ]
    },
    {
      "cell_type": "code",
      "execution_count": null,
      "metadata": {
        "id": "Ue3a4jelgCnx"
      },
      "outputs": [],
      "source": []
    },
    {
      "cell_type": "markdown",
      "metadata": {
        "id": "a3LKO_rwgCnx"
      },
      "source": [
        "## Exercise 5:"
      ]
    },
    {
      "cell_type": "code",
      "execution_count": null,
      "metadata": {
        "id": "h-zuNRptgCnx",
        "outputId": "f328260e-85ee-4a64-9c9a-27de23f8d53a"
      },
      "outputs": [
        {
          "name": "stdout",
          "output_type": "stream",
          "text": [
            "Enter number at location 0 :\n",
            "1\n",
            "Enter number at location 1 :\n",
            "1\n",
            "Enter number at location 2 :\n",
            "1\n",
            "Enter number at location 3 :\n",
            "1\n",
            "Enter number at location 4 :\n",
            "1\n",
            "User List: [1.0, 1.0, 1.0, 1.0, 1.0]\n"
          ]
        }
      ],
      "source": [
        "numbers = []\n",
        "\n",
        "# 5 is the list size\n",
        "# run loop 5 times\n",
        "for i in range(0, 5):\n",
        "    print(\"Enter number at location\", i, \":\")\n",
        "    # accept float number from user\n",
        "    item = float(input())\n",
        "    # add it to the list\n",
        "    numbers.append(item)\n",
        "\n",
        "print(\"User List:\", numbers)"
      ]
    },
    {
      "cell_type": "markdown",
      "metadata": {
        "id": "fYgnymDQgCny"
      },
      "source": [
        "-------"
      ]
    },
    {
      "cell_type": "markdown",
      "metadata": {
        "id": "HsNsRIqigCny"
      },
      "source": [
        "## Exercise 6:"
      ]
    },
    {
      "cell_type": "code",
      "execution_count": null,
      "metadata": {
        "id": "UgRTamlvgCny",
        "outputId": "80ea9009-4c07-4574-afaf-d6b2f29bfa14"
      },
      "outputs": [
        {
          "name": "stdout",
          "output_type": "stream",
          "text": [
            "Enter three stringAmit Anuj Ankit\n",
            "Name1: Amit\n",
            "Name2: Anuj\n",
            "Name3: Ankit\n"
          ]
        }
      ],
      "source": [
        "str1, str2, str3 = input(\"Enter three string\").split()\n",
        "print('Name1:', str1)\n",
        "print('Name2:', str2)\n",
        "print('Name3:', str3)"
      ]
    },
    {
      "cell_type": "markdown",
      "metadata": {
        "id": "W45Ty8LkgCny"
      },
      "source": [
        "----------"
      ]
    }
  ],
  "metadata": {
    "kernelspec": {
      "display_name": "Python 3",
      "language": "python",
      "name": "python3"
    },
    "language_info": {
      "codemirror_mode": {
        "name": "ipython",
        "version": 3
      },
      "file_extension": ".py",
      "mimetype": "text/x-python",
      "name": "python",
      "nbconvert_exporter": "python",
      "pygments_lexer": "ipython3",
      "version": "3.8.5"
    },
    "colab": {
      "provenance": [],
      "include_colab_link": true
    }
  },
  "nbformat": 4,
  "nbformat_minor": 0
}